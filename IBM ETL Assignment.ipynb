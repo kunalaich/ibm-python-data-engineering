{
    "cells": [
        {
            "metadata": {},
            "cell_type": "markdown",
            "source": "<center>\n    <img src=\"https://gitlab.com/ibm/skills-network/courses/placeholder101/-/raw/master/labs/module%201/images/IDSNlogo.png\" width=\"300\" alt=\"cognitiveclass.ai logo\"  />\n</center>\n"
        },
        {
            "metadata": {},
            "cell_type": "markdown",
            "source": "# Peer Review Assignment - Data Engineer - ETL\n"
        },
        {
            "metadata": {},
            "cell_type": "markdown",
            "source": "Estimated time needed: **20** minutes\n"
        },
        {
            "metadata": {},
            "cell_type": "markdown",
            "source": "## Objectives\n\nIn this final part you will:\n\n-   Run the ETL process\n-   Extract bank and market cap data from the JSON file `bank_market_cap.json`\n-   Transform the market cap currency using the exchange rate data\n-   Load the transformed data into a seperate CSV\n"
        },
        {
            "metadata": {},
            "cell_type": "markdown",
            "source": "For this lab, we are going to be using Python and several Python libraries. Some of these libraries might be installed in your lab environment or in SN Labs. Others may need to be installed by you. The cells below will install these libraries when executed.\n"
        },
        {
            "metadata": {},
            "cell_type": "code",
            "source": "#!pip install glob\n#!pip install pandas\n#!pip install requests\n#!pip install datetime",
            "execution_count": 1,
            "outputs": []
        },
        {
            "metadata": {},
            "cell_type": "markdown",
            "source": "## Imports\n\nImport any additional libraries you may need here.\n"
        },
        {
            "metadata": {},
            "cell_type": "code",
            "source": "import glob\nimport pandas as pd\nfrom datetime import datetime",
            "execution_count": 2,
            "outputs": []
        },
        {
            "metadata": {},
            "cell_type": "markdown",
            "source": "As the exchange rate fluctuates, we will download the same dataset to make marking simpler. This will be in the same format as the dataset you used in the last section  \n"
        },
        {
            "metadata": {},
            "cell_type": "code",
            "source": "!wget https://cf-courses-data.s3.us.cloud-object-storage.appdomain.cloud/IBMDeveloperSkillsNetwork-PY0221EN-SkillsNetwork/labs/module%206/Lab%20-%20Extract%20Transform%20Load/data/bank_market_cap_1.json\n!wget https://cf-courses-data.s3.us.cloud-object-storage.appdomain.cloud/IBMDeveloperSkillsNetwork-PY0221EN-SkillsNetwork/labs/module%206/Lab%20-%20Extract%20Transform%20Load/data/bank_market_cap_2.json\n!wget https://cf-courses-data.s3.us.cloud-object-storage.appdomain.cloud/IBMDeveloperSkillsNetwork-PY0221EN-SkillsNetwork/labs/module%206/Final%20Assignment/exchange_rates.csv",
            "execution_count": 3,
            "outputs": [
                {
                    "output_type": "stream",
                    "text": "--2021-01-28 17:41:49--  https://cf-courses-data.s3.us.cloud-object-storage.appdomain.cloud/IBMDeveloperSkillsNetwork-PY0221EN-SkillsNetwork/labs/module%206/Lab%20-%20Extract%20Transform%20Load/data/bank_market_cap_1.json\nResolving cf-courses-data.s3.us.cloud-object-storage.appdomain.cloud (cf-courses-data.s3.us.cloud-object-storage.appdomain.cloud)... 198.23.119.245\nConnecting to cf-courses-data.s3.us.cloud-object-storage.appdomain.cloud (cf-courses-data.s3.us.cloud-object-storage.appdomain.cloud)|198.23.119.245|:443... connected.\nHTTP request sent, awaiting response... 200 OK\nLength: 2815 (2.7K) [application/json]\nSaving to: \u2018bank_market_cap_1.json\u2019\n\nbank_market_cap_1.j 100%[===================>]   2.75K  --.-KB/s    in 0s      \n\n2021-01-28 17:41:50 (40.2 MB/s) - \u2018bank_market_cap_1.json\u2019 saved [2815/2815]\n\n--2021-01-28 17:41:51--  https://cf-courses-data.s3.us.cloud-object-storage.appdomain.cloud/IBMDeveloperSkillsNetwork-PY0221EN-SkillsNetwork/labs/module%206/Lab%20-%20Extract%20Transform%20Load/data/bank_market_cap_2.json\nResolving cf-courses-data.s3.us.cloud-object-storage.appdomain.cloud (cf-courses-data.s3.us.cloud-object-storage.appdomain.cloud)... 198.23.119.245\nConnecting to cf-courses-data.s3.us.cloud-object-storage.appdomain.cloud (cf-courses-data.s3.us.cloud-object-storage.appdomain.cloud)|198.23.119.245|:443... connected.\nHTTP request sent, awaiting response... 200 OK\nLength: 1429 (1.4K) [application/json]\nSaving to: \u2018bank_market_cap_2.json\u2019\n\nbank_market_cap_2.j 100%[===================>]   1.40K  --.-KB/s    in 0s      \n\n2021-01-28 17:41:51 (30.7 MB/s) - \u2018bank_market_cap_2.json\u2019 saved [1429/1429]\n\n--2021-01-28 17:41:53--  https://cf-courses-data.s3.us.cloud-object-storage.appdomain.cloud/IBMDeveloperSkillsNetwork-PY0221EN-SkillsNetwork/labs/module%206/Final%20Assignment/exchange_rates.csv\nResolving cf-courses-data.s3.us.cloud-object-storage.appdomain.cloud (cf-courses-data.s3.us.cloud-object-storage.appdomain.cloud)... 198.23.119.245\nConnecting to cf-courses-data.s3.us.cloud-object-storage.appdomain.cloud (cf-courses-data.s3.us.cloud-object-storage.appdomain.cloud)|198.23.119.245|:443... connected.\nHTTP request sent, awaiting response... 200 OK\nLength: 590 [text/csv]\nSaving to: \u2018exchange_rates.csv\u2019\n\nexchange_rates.csv  100%[===================>]     590  --.-KB/s    in 0.002s  \n\n2021-01-28 17:41:53 (347 KB/s) - \u2018exchange_rates.csv\u2019 saved [590/590]\n\n",
                    "name": "stdout"
                }
            ]
        },
        {
            "metadata": {},
            "cell_type": "markdown",
            "source": "## Extract\n"
        },
        {
            "metadata": {},
            "cell_type": "markdown",
            "source": "### JSON Extract Function\n\nthis function will extracts JSON files.\n"
        },
        {
            "metadata": {},
            "cell_type": "code",
            "source": "def extract_from_json(file_to_process):\n    dataframe = pd.read_json(file_to_process)\n    return dataframe",
            "execution_count": 4,
            "outputs": []
        },
        {
            "metadata": {},
            "cell_type": "markdown",
            "source": "### Extract Function\n\nWrite the extract function that finds JSON files and calls the function created above to extract data from them. Store the data in a `pandas` dataframe. Use the following list for the columns.\n"
        },
        {
            "metadata": {},
            "cell_type": "code",
            "source": "columns=['Name','Market Cap (US$ Billion)']",
            "execution_count": 5,
            "outputs": []
        },
        {
            "metadata": {},
            "cell_type": "code",
            "source": "def extract():\n    extracted_data = pd.DataFrame(columns=columns)\n        \n    #process all json files\n    for jsonfile in glob.glob(\"*.json\"):\n        extracted_data = extracted_data.append(extract_from_json(jsonfile), ignore_index=True)\n        \n    return extracted_data",
            "execution_count": 6,
            "outputs": []
        },
        {
            "metadata": {},
            "cell_type": "markdown",
            "source": "## Logging Function\n"
        },
        {
            "metadata": {},
            "cell_type": "markdown",
            "source": "write the logging function <code>log</code> to log your data:\n"
        },
        {
            "metadata": {},
            "cell_type": "code",
            "source": "def log(message):\n    timestamp_format = '%Y-%h-%d-%H:%M:%S' # Year-Monthname-Day-Hour-Minute-Second\n    now = datetime.now() # get current timestamp\n    timestamp = now.strftime(timestamp_format)\n    with open(\"logfile.txt\",\"a\") as f:\n        f.write(timestamp + ',' + message + '\\n')",
            "execution_count": 7,
            "outputs": []
        },
        {
            "metadata": {},
            "cell_type": "markdown",
            "source": "<b>Question 1</b> load the file <code>'exchange_rates.csv'</code> find the exchange rate for  British pounds with the symbol <code>GBP</code>, store it in the variable  <code>exchange_rate</code>, your. will be asked for the number( hint: set the parameter  <code>index_col</code> to 0)\n"
        },
        {
            "metadata": {},
            "cell_type": "code",
            "source": "df = pd.read_csv('exchange_rates.csv')\nexchange_rate = df.loc[df['Unnamed: 0'] == 'GBP', 'Rates'].iloc[0]\nexchange_rate",
            "execution_count": 21,
            "outputs": [
                {
                    "output_type": "execute_result",
                    "execution_count": 21,
                    "data": {
                        "text/plain": "0.7323984208000001"
                    },
                    "metadata": {}
                }
            ]
        },
        {
            "metadata": {},
            "cell_type": "markdown",
            "source": "## Transform\n\nUsing <code>exchange_rate</code> the `exchange_rates.csv` file find the exchange rate USD to GBP. Write a transform function that\n\n1.  Changes the `Market Cap (US$ Billion)` column from USD to GBP\n2.  Rounds the Market Cap (US$ Billion)` column to 3 decimal places\n3.  Rename `Market Cap (US$ Billion)` to `Market Cap (GBP$ Billion)`\n"
        },
        {
            "metadata": {},
            "cell_type": "code",
            "source": "def transform(data):\n    data['Market Cap (US$ Billion)'] = round(data['Market Cap (US$ Billion)'] * exchange_rate,3)\n    data.rename(columns = {'Market Cap (US$ Billion)':'Market Cap (GBP$ Billion)'}, inplace = True)\n    return data",
            "execution_count": 25,
            "outputs": []
        },
        {
            "metadata": {},
            "cell_type": "markdown",
            "source": "## Load\n\nCreate a function that takes a dataframe and load it to a csv named `bank_market_cap_gbp.csv`. Make sure to set `index` to `False`.\n"
        },
        {
            "metadata": {},
            "cell_type": "code",
            "source": "targetfile = \"bank_market_cap_gbp.csv\" ",
            "execution_count": 26,
            "outputs": []
        },
        {
            "metadata": {},
            "cell_type": "code",
            "source": "def load(targetfile, data_to_load):\n    data_to_load.to_csv(targetfile, index=False) ",
            "execution_count": 27,
            "outputs": []
        },
        {
            "metadata": {},
            "cell_type": "markdown",
            "source": "## Extracted data using the function <code>extract()</code>\n"
        },
        {
            "metadata": {},
            "cell_type": "markdown",
            "source": "Log the process accordingly using the following  <code>\"ETL Job Started\"</code> and <code>\"Extract phase Started\"</code>\n"
        },
        {
            "metadata": {},
            "cell_type": "code",
            "source": "log(\"ETL Job Started\")",
            "execution_count": 28,
            "outputs": []
        },
        {
            "metadata": {},
            "cell_type": "markdown",
            "source": "<code>Question 2</code> use the function <code> extract()</code>, and print the first 5 rows, take a screen shot:\n"
        },
        {
            "metadata": {},
            "cell_type": "code",
            "source": "log(\"Extract phase Started\")\nextracted_data = extract()\nextracted_data.head()",
            "execution_count": 38,
            "outputs": [
                {
                    "output_type": "execute_result",
                    "execution_count": 38,
                    "data": {
                        "text/plain": "                                       Name  Market Cap (US$ Billion)\n0                            JPMorgan Chase                   390.934\n1   Industrial and Commercial Bank of China                   345.214\n2                           Bank of America                   325.331\n3                               Wells Fargo                   308.013\n4                   China Construction Bank                   257.399\n5                         HSBC Holdings PLC                   219.270\n6                Agricultural Bank of China                   203.244\n7                            Citigroup Inc.                   203.165\n8                             Bank of China                   181.469\n9                      China Merchants Bank                   122.616\n10                     Royal Bank of Canada                   122.564\n11                          Banco Santander                   115.696\n12                        Commonwealth Bank                   112.227\n13           Mitsubishi UFJ Financial Group                   111.660\n14                    Toronto-Dominion Bank                   108.449\n15                              BNP Paribas                   103.258\n16                            Goldman Sachs                   100.705\n17                       Sberbank of Russia                    99.840\n18                           Morgan Stanley                    99.651\n19                             U.S. Bancorp                    94.558\n20                                HDFC Bank                    88.435\n21                            Ita\u00fa Unibanco                    86.203\n22                                  Westpac                    84.560\n23                               Scotiabank                    78.947\n24                                ING Group                    78.920\n25                                      UBS                    75.482\n26                           Charles Schwab                    74.255\n27                   PNC Financial Services                    72.246\n28                     Lloyds Banking Group                    71.253\n29          Sumitomo Mitsui Financial Group                    67.328",
                        "text/html": "<div>\n<style scoped>\n    .dataframe tbody tr th:only-of-type {\n        vertical-align: middle;\n    }\n\n    .dataframe tbody tr th {\n        vertical-align: top;\n    }\n\n    .dataframe thead th {\n        text-align: right;\n    }\n</style>\n<table border=\"1\" class=\"dataframe\">\n  <thead>\n    <tr style=\"text-align: right;\">\n      <th></th>\n      <th>Name</th>\n      <th>Market Cap (US$ Billion)</th>\n    </tr>\n  </thead>\n  <tbody>\n    <tr>\n      <th>0</th>\n      <td>JPMorgan Chase</td>\n      <td>390.934</td>\n    </tr>\n    <tr>\n      <th>1</th>\n      <td>Industrial and Commercial Bank of China</td>\n      <td>345.214</td>\n    </tr>\n    <tr>\n      <th>2</th>\n      <td>Bank of America</td>\n      <td>325.331</td>\n    </tr>\n    <tr>\n      <th>3</th>\n      <td>Wells Fargo</td>\n      <td>308.013</td>\n    </tr>\n    <tr>\n      <th>4</th>\n      <td>China Construction Bank</td>\n      <td>257.399</td>\n    </tr>\n    <tr>\n      <th>5</th>\n      <td>HSBC Holdings PLC</td>\n      <td>219.270</td>\n    </tr>\n    <tr>\n      <th>6</th>\n      <td>Agricultural Bank of China</td>\n      <td>203.244</td>\n    </tr>\n    <tr>\n      <th>7</th>\n      <td>Citigroup Inc.</td>\n      <td>203.165</td>\n    </tr>\n    <tr>\n      <th>8</th>\n      <td>Bank of China</td>\n      <td>181.469</td>\n    </tr>\n    <tr>\n      <th>9</th>\n      <td>China Merchants Bank</td>\n      <td>122.616</td>\n    </tr>\n    <tr>\n      <th>10</th>\n      <td>Royal Bank of Canada</td>\n      <td>122.564</td>\n    </tr>\n    <tr>\n      <th>11</th>\n      <td>Banco Santander</td>\n      <td>115.696</td>\n    </tr>\n    <tr>\n      <th>12</th>\n      <td>Commonwealth Bank</td>\n      <td>112.227</td>\n    </tr>\n    <tr>\n      <th>13</th>\n      <td>Mitsubishi UFJ Financial Group</td>\n      <td>111.660</td>\n    </tr>\n    <tr>\n      <th>14</th>\n      <td>Toronto-Dominion Bank</td>\n      <td>108.449</td>\n    </tr>\n    <tr>\n      <th>15</th>\n      <td>BNP Paribas</td>\n      <td>103.258</td>\n    </tr>\n    <tr>\n      <th>16</th>\n      <td>Goldman Sachs</td>\n      <td>100.705</td>\n    </tr>\n    <tr>\n      <th>17</th>\n      <td>Sberbank of Russia</td>\n      <td>99.840</td>\n    </tr>\n    <tr>\n      <th>18</th>\n      <td>Morgan Stanley</td>\n      <td>99.651</td>\n    </tr>\n    <tr>\n      <th>19</th>\n      <td>U.S. Bancorp</td>\n      <td>94.558</td>\n    </tr>\n    <tr>\n      <th>20</th>\n      <td>HDFC Bank</td>\n      <td>88.435</td>\n    </tr>\n    <tr>\n      <th>21</th>\n      <td>Ita\u00fa Unibanco</td>\n      <td>86.203</td>\n    </tr>\n    <tr>\n      <th>22</th>\n      <td>Westpac</td>\n      <td>84.560</td>\n    </tr>\n    <tr>\n      <th>23</th>\n      <td>Scotiabank</td>\n      <td>78.947</td>\n    </tr>\n    <tr>\n      <th>24</th>\n      <td>ING Group</td>\n      <td>78.920</td>\n    </tr>\n    <tr>\n      <th>25</th>\n      <td>UBS</td>\n      <td>75.482</td>\n    </tr>\n    <tr>\n      <th>26</th>\n      <td>Charles Schwab</td>\n      <td>74.255</td>\n    </tr>\n    <tr>\n      <th>27</th>\n      <td>PNC Financial Services</td>\n      <td>72.246</td>\n    </tr>\n    <tr>\n      <th>28</th>\n      <td>Lloyds Banking Group</td>\n      <td>71.253</td>\n    </tr>\n    <tr>\n      <th>29</th>\n      <td>Sumitomo Mitsui Financial Group</td>\n      <td>67.328</td>\n    </tr>\n  </tbody>\n</table>\n</div>"
                    },
                    "metadata": {}
                }
            ]
        },
        {
            "metadata": {},
            "cell_type": "markdown",
            "source": "log the data as <code>\"Extract phase Ended\" </code>\n"
        },
        {
            "metadata": {},
            "cell_type": "code",
            "source": "log(\"Extract phase Ended\")",
            "execution_count": 30,
            "outputs": []
        },
        {
            "metadata": {},
            "cell_type": "markdown",
            "source": "log the folloowing  <code>\"Transform phase Started\"</code>\n"
        },
        {
            "metadata": {},
            "cell_type": "code",
            "source": "log(\"Transform phase Started\")",
            "execution_count": 31,
            "outputs": []
        },
        {
            "metadata": {},
            "cell_type": "markdown",
            "source": "<code>Question 3</code> use the function <code> transform()</code> and print the first 5 rows of the output, take a screen shot:\n"
        },
        {
            "metadata": {},
            "cell_type": "code",
            "source": "transformed_data = transform(extracted_data)\ntransformed_data .head()",
            "execution_count": 32,
            "outputs": [
                {
                    "output_type": "execute_result",
                    "execution_count": 32,
                    "data": {
                        "text/plain": "                                      Name  Market Cap (GBP$ Billion)\n0                           JPMorgan Chase                    286.319\n1  Industrial and Commercial Bank of China                    252.834\n2                          Bank of America                    238.272\n3                              Wells Fargo                    225.588\n4                  China Construction Bank                    188.519",
                        "text/html": "<div>\n<style scoped>\n    .dataframe tbody tr th:only-of-type {\n        vertical-align: middle;\n    }\n\n    .dataframe tbody tr th {\n        vertical-align: top;\n    }\n\n    .dataframe thead th {\n        text-align: right;\n    }\n</style>\n<table border=\"1\" class=\"dataframe\">\n  <thead>\n    <tr style=\"text-align: right;\">\n      <th></th>\n      <th>Name</th>\n      <th>Market Cap (GBP$ Billion)</th>\n    </tr>\n  </thead>\n  <tbody>\n    <tr>\n      <th>0</th>\n      <td>JPMorgan Chase</td>\n      <td>286.319</td>\n    </tr>\n    <tr>\n      <th>1</th>\n      <td>Industrial and Commercial Bank of China</td>\n      <td>252.834</td>\n    </tr>\n    <tr>\n      <th>2</th>\n      <td>Bank of America</td>\n      <td>238.272</td>\n    </tr>\n    <tr>\n      <th>3</th>\n      <td>Wells Fargo</td>\n      <td>225.588</td>\n    </tr>\n    <tr>\n      <th>4</th>\n      <td>China Construction Bank</td>\n      <td>188.519</td>\n    </tr>\n  </tbody>\n</table>\n</div>"
                    },
                    "metadata": {}
                }
            ]
        },
        {
            "metadata": {},
            "cell_type": "markdown",
            "source": "log your data <code>\"Transform phase Ended\"</code>\n"
        },
        {
            "metadata": {},
            "cell_type": "code",
            "source": "log(\"Transform phase Ended\")",
            "execution_count": 33,
            "outputs": []
        },
        {
            "metadata": {},
            "cell_type": "markdown",
            "source": "## Lode the data\n\nload the data log the following  <code>\"Load phase Started\"</code>  and <code>\"Load phase Ended\"</code>\n"
        },
        {
            "metadata": {},
            "cell_type": "code",
            "source": "# Call the Load function\nlog(\"Load phase Started\")\nload(targetfile,transformed_data)\nlog(\"Load phase Ended\")\nlog(\"ETL Job Ended\")",
            "execution_count": 34,
            "outputs": []
        },
        {
            "metadata": {},
            "cell_type": "markdown",
            "source": "## Authors\n"
        },
        {
            "metadata": {},
            "cell_type": "markdown",
            "source": "Ramesh Sannareddy, Joseph Santrcangelo and Azim Hirjani\n"
        },
        {
            "metadata": {},
            "cell_type": "markdown",
            "source": "### Other Contributors\n"
        },
        {
            "metadata": {},
            "cell_type": "markdown",
            "source": "Rav Ahuja\n"
        },
        {
            "metadata": {},
            "cell_type": "markdown",
            "source": "## Change Log\n"
        },
        {
            "metadata": {},
            "cell_type": "markdown",
            "source": "| Date (YYYY-MM-DD) | Version | Changed By        | Change Description                 |\n| ----------------- | ------- | ----------------- | ---------------------------------- |\n| 2020-11-25        | 0.1     | Ramesh Sannareddy | Created initial version of the lab |\n"
        },
        {
            "metadata": {},
            "cell_type": "markdown",
            "source": " Copyright \u00a9 2020 IBM Corporation. This notebook and its source code are released under the terms of the [MIT License](https://cognitiveclass.ai/mit-license?cm_mmc=Email_Newsletter-_-Developer_Ed%2BTech-_-WW_WW-_-SkillsNetwork-Courses-IBM-DA0321EN-SkillsNetwork-21426264&cm_mmca1=000026UJ&cm_mmca2=10006555&cm_mmca3=M12345678&cvosrc=email.Newsletter.M12345678&cvo_campaign=000026UJ&cm_mmc=Email_Newsletter-_-Developer_Ed%2BTech-_-WW_WW-_-SkillsNetwork-Courses-IBM-DA0321EN-SkillsNetwork-21426264&cm_mmca1=000026UJ&cm_mmca2=10006555&cm_mmca3=M12345678&cvosrc=email.Newsletter.M12345678&cvo_campaign=000026UJ&cm_mmc=Email_Newsletter-_-Developer_Ed%2BTech-_-WW_WW-_-SkillsNetwork-Courses-IBM-DA0321EN-SkillsNetwork-21426264&cm_mmca1=000026UJ&cm_mmca2=10006555&cm_mmca3=M12345678&cvosrc=email.Newsletter.M12345678&cvo_campaign=000026UJ&cm_mmc=Email_Newsletter-_-Developer_Ed%2BTech-_-WW_WW-_-SkillsNetwork-Courses-IBM-DA0321EN-SkillsNetwork-21426264&cm_mmca1=000026UJ&cm_mmca2=10006555&cm_mmca3=M12345678&cvosrc=email.Newsletter.M12345678&cvo_campaign=000026UJ&cm_mmc=Email_Newsletter-_-Developer_Ed%2BTech-_-WW_WW-_-SkillsNetwork-Courses-IBMDeveloperSkillsNetwork-PY0221EN-SkillsNetwork-23455645&cm_mmca1=000026UJ&cm_mmca2=10006555&cm_mmca3=M12345678&cvosrc=email.Newsletter.M12345678&cvo_campaign=000026UJ&cm_mmc=Email_Newsletter-_-Developer_Ed%2BTech-_-WW_WW-_-SkillsNetwork-Courses-IBMDeveloperSkillsNetwork-PY0221EN-SkillsNetwork-23455645&cm_mmca1=000026UJ&cm_mmca2=10006555&cm_mmca3=M12345678&cvosrc=email.Newsletter.M12345678&cvo_campaign=000026UJ).\n"
        }
    ],
    "metadata": {
        "kernelspec": {
            "name": "python3",
            "display_name": "Python 3.7",
            "language": "python"
        },
        "language_info": {
            "name": "python",
            "version": "3.7.9",
            "mimetype": "text/x-python",
            "codemirror_mode": {
                "name": "ipython",
                "version": 3
            },
            "pygments_lexer": "ipython3",
            "nbconvert_exporter": "python",
            "file_extension": ".py"
        }
    },
    "nbformat": 4,
    "nbformat_minor": 4
}